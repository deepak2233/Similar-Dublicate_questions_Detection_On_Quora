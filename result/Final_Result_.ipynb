{
  "nbformat": 4,
  "nbformat_minor": 0,
  "metadata": {
    "colab": {
      "name": "Final_Result .ipynb",
      "provenance": []
    },
    "kernelspec": {
      "name": "python3",
      "display_name": "Python 3"
    },
    "language_info": {
      "name": "python"
    }
  },
  "cells": [
    {
      "cell_type": "code",
      "source": [
        ""
      ],
      "metadata": {
        "id": "SmxlTp4Se35u"
      },
      "execution_count": null,
      "outputs": []
    },
    {
      "cell_type": "markdown",
      "source": [
        "# **Results**"
      ],
      "metadata": {
        "id": "enHr7WzvAwaH"
      }
    },
    {
      "cell_type": "code",
      "source": [
        "from prettytable import PrettyTable\n",
        "print(\"TF-IDF w2v\")\n",
        "x = PrettyTable()\n",
        "x.field_names = [\"ML Model\", \"Vectorizer\", \"Train log loss\", \"Test log loss\", \"Accuracy\", \"Precision\", \"recall\", \"f1-score\"]\n",
        "\n",
        "x.add_row([\"Logistic Regression\",'TF-IDF w2v', 0.385, 0.3942,0.81,  0.80, 0.78 , 0.79 ])\n",
        "x.add_row([\"Linear SVM\", 'TF-IDF w2v', 0.387, 0.395, 0.81,  0.81, 0.78 , 0.79])\n",
        "\n",
        "print(x)\n",
        "\n",
        "\n",
        "\n",
        "\n",
        "print(\"\\n TF-IDF vec\")\n",
        "x = PrettyTable()\n",
        "x.field_names = [\"ML Model\", \"Vectorizer\", \"Train log loss\", \"Test log loss\", \"Accuracy\", \"Precision\", \"recall\", \"f1-score\"]\n",
        "\n",
        "x.add_row([\"Logistic Regression\",'TF-IDF ', 0.436,0.539,  0.74, 0.72, 0.69, 0.70 ])\n",
        "x.add_row([\"Linear SVM\", 'TF-IDF ',0.488,0.544, 0.74, 0.73, 0.69, 0.69 ])\n",
        "\n",
        "print(x)"
      ],
      "metadata": {
        "colab": {
          "base_uri": "https://localhost:8080/"
        },
        "id": "Muz0Duc79duZ",
        "outputId": "34a1d1f0-f991-490c-db35-58bc4435e8c7"
      },
      "execution_count": null,
      "outputs": [
        {
          "output_type": "stream",
          "name": "stdout",
          "text": [
            "TF-IDF w2v\n",
            "+---------------------+------------+----------------+---------------+----------+-----------+--------+----------+\n",
            "|       ML Model      | Vectorizer | Train log loss | Test log loss | Accuracy | Precision | recall | f1-score |\n",
            "+---------------------+------------+----------------+---------------+----------+-----------+--------+----------+\n",
            "| Logistic Regression | TF-IDF w2v |     0.385      |     0.3942    |   0.81   |    0.8    |  0.78  |   0.79   |\n",
            "|      Linear SVM     | TF-IDF w2v |     0.387      |     0.395     |   0.81   |    0.81   |  0.78  |   0.79   |\n",
            "+---------------------+------------+----------------+---------------+----------+-----------+--------+----------+\n",
            "\n",
            " TF-IDF vec\n",
            "+---------------------+------------+----------------+---------------+----------+-----------+--------+----------+\n",
            "|       ML Model      | Vectorizer | Train log loss | Test log loss | Accuracy | Precision | recall | f1-score |\n",
            "+---------------------+------------+----------------+---------------+----------+-----------+--------+----------+\n",
            "| Logistic Regression |  TF-IDF    |     0.436      |     0.539     |   0.74   |    0.72   |  0.69  |   0.7    |\n",
            "|      Linear SVM     |  TF-IDF    |     0.488      |     0.544     |   0.74   |    0.73   |  0.69  |   0.69   |\n",
            "+---------------------+------------+----------------+---------------+----------+-----------+--------+----------+\n"
          ]
        }
      ]
    }
  ]
}