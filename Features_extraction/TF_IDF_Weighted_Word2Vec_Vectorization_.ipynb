{
  "nbformat": 4,
  "nbformat_minor": 0,
  "metadata": {
    "colab": {
      "name": "TF-IDF_Weighted_Word2Vec_Vectorization .ipynb",
      "provenance": []
    },
    "kernelspec": {
      "name": "python3",
      "display_name": "Python 3"
    },
    "language_info": {
      "name": "python"
    }
  },
  "cells": [
    {
      "cell_type": "code",
      "source": [
        ""
      ],
      "metadata": {
        "id": "XiLE25xdePmU"
      },
      "execution_count": null,
      "outputs": []
    },
    {
      "cell_type": "markdown",
      "source": [
        "# **TFIDF Weighted Glove Vectors**"
      ],
      "metadata": {
        "id": "HS7I_qOEbPfP"
      }
    },
    {
      "cell_type": "code",
      "source": [
        "questions = list(X_train['question1'].values.astype('U')) + list(X_train['question2'].values.astype('U'))\n",
        "tfidf = TfidfVectorizer(lowercase=False)\n",
        "tfidf.fit_transform(questions)\n",
        "word2tfidf = dict(zip(tfidf.get_feature_names(), tfidf.idf_))"
      ],
      "metadata": {
        "id": "__H4sgzFdSYY"
      },
      "execution_count": null,
      "outputs": []
    },
    {
      "cell_type": "code",
      "source": [
        "# Load the spacy model that you have installed\n",
        "import en_core_web_sm\n",
        "nlp = en_core_web_sm.load()\n",
        "\n",
        "# each vector will be of length 94..\n",
        "doc = nlp(\"This is some text that I am processing with Spacy\")\n",
        "#example\n",
        "doc[3].vector.shape"
      ],
      "metadata": {
        "colab": {
          "base_uri": "https://localhost:8080/"
        },
        "id": "JVM2TQMMIP8O",
        "outputId": "2dd46aa3-0833-4b2e-ee01-146dd697bfa3"
      },
      "execution_count": null,
      "outputs": [
        {
          "output_type": "execute_result",
          "data": {
            "text/plain": [
              "(96,)"
            ]
          },
          "metadata": {},
          "execution_count": 110
        }
      ]
    },
    {
      "cell_type": "code",
      "source": [
        "X_train['question1'] = X_train['question1'].values.astype('str')"
      ],
      "metadata": {
        "id": "nxz0pJb9eiIe"
      },
      "execution_count": null,
      "outputs": []
    },
    {
      "cell_type": "code",
      "source": [
        "nlp = spacy.load('en_core_web_sm')\n",
        "\n",
        "vecs1 = []\n",
        "# https://github.com/noamraph/tqdm\n",
        "# tqdm is used to print the progress bar\n",
        "for qu1 in tqdm(list(X_train['question1'])):\n",
        "    doc1 = nlp(qu1) \n",
        "    # 384 is the number of dimensions of vectors \n",
        "    mean_vec1 = np.zeros([len(doc1), 96])\n",
        "    for i,word1 in enumerate(doc1):\n",
        "        # word2vec\n",
        "        vec1 = word1.vector\n",
        "        # fetch df score\n",
        "        try:\n",
        "            idf = word2tfidf[str(word1)]\n",
        "        except:\n",
        "            idf = 0\n",
        "        # compute final vec\n",
        "        mean_vec1[i] += vec1 * idf\n",
        "    mean_vec1 = mean_vec1.mean(axis=0)\n",
        "    vecs1.append(mean_vec1)\n",
        "\n",
        "X_train_glove_q1 = vecs1"
      ],
      "metadata": {
        "colab": {
          "base_uri": "https://localhost:8080/"
        },
        "id": "Hl832rNcIP_i",
        "outputId": "afacb521-bb59-4cdc-899e-260eed922e86"
      },
      "execution_count": null,
      "outputs": [
        {
          "output_type": "stream",
          "name": "stderr",
          "text": [
            "100%|██████████| 70000/70000 [10:43<00:00, 108.73it/s]\n"
          ]
        }
      ]
    },
    {
      "cell_type": "code",
      "source": [
        "X_train['question2'] = X_train['question2'].values.astype('str')"
      ],
      "metadata": {
        "id": "0fTz1sBQiHjk"
      },
      "execution_count": null,
      "outputs": []
    },
    {
      "cell_type": "code",
      "source": [
        "nlp = spacy.load('en_core_web_sm')\n",
        "\n",
        "vecs1 = []\n",
        "# https://github.com/noamraph/tqdm\n",
        "# tqdm is used to print the progress bar\n",
        "for qu1 in tqdm(list(X_train['question2'])):\n",
        "    doc1 = nlp(qu1) \n",
        "    # 384 is the number of dimensions of vectors \n",
        "    mean_vec1 = np.zeros([len(doc1), 96])\n",
        "    for i,word1 in enumerate(doc1):\n",
        "        # word2vec\n",
        "        vec1 = word1.vector\n",
        "        # fetch df score\n",
        "        try:\n",
        "            idf = word2tfidf[str(word1)]\n",
        "        except:\n",
        "            idf = 0\n",
        "        # compute final vec\n",
        "        mean_vec1[i] += vec1 * idf\n",
        "    mean_vec1 = mean_vec1.mean(axis=0)\n",
        "    vecs1.append(mean_vec1)\n",
        "\n",
        "X_train_glove_q2 = vecs1"
      ],
      "metadata": {
        "colab": {
          "base_uri": "https://localhost:8080/"
        },
        "id": "tFP8pfIOIQCg",
        "outputId": "c346e951-9b68-42b2-92fc-f527b4f4634a"
      },
      "execution_count": null,
      "outputs": [
        {
          "output_type": "stream",
          "name": "stderr",
          "text": [
            "100%|██████████| 70000/70000 [11:18<00:00, 103.21it/s]\n"
          ]
        }
      ]
    },
    {
      "cell_type": "code",
      "source": [
        "X_test['question1'] = X_test['question1'].values.astype('str')"
      ],
      "metadata": {
        "id": "2hln6aq1lUI6"
      },
      "execution_count": null,
      "outputs": []
    },
    {
      "cell_type": "code",
      "source": [
        "nlp = spacy.load('en_core_web_sm')\n",
        "\n",
        "vecs1 = []\n",
        "# https://github.com/noamraph/tqdm\n",
        "# tqdm is used to print the progress bar\n",
        "for qu1 in tqdm(list(X_test['question1'])):\n",
        "    doc1 = nlp(qu1) \n",
        "    # 384 is the number of dimensions of vectors \n",
        "    mean_vec1 = np.zeros([len(doc1), 96])\n",
        "    for i,word1 in enumerate(doc1):\n",
        "        # word2vec\n",
        "        vec1 = word1.vector\n",
        "        # fetch df score\n",
        "        try:\n",
        "            idf = word2tfidf[str(word1)]\n",
        "        except:\n",
        "            idf = 0\n",
        "        # compute final vec\n",
        "        mean_vec1[i] += vec1 * idf\n",
        "    mean_vec1 = mean_vec1.mean(axis=0)\n",
        "    vecs1.append(mean_vec1)\n",
        "\n",
        "X_test_glove_q1 = vecs1"
      ],
      "metadata": {
        "colab": {
          "base_uri": "https://localhost:8080/"
        },
        "id": "44x1ql8VIQFv",
        "outputId": "2081b15f-2147-492a-b41e-b439fb2b0ee1"
      },
      "execution_count": null,
      "outputs": [
        {
          "output_type": "stream",
          "name": "stderr",
          "text": [
            "100%|██████████| 30000/30000 [05:40<00:00, 88.03it/s] \n"
          ]
        }
      ]
    },
    {
      "cell_type": "code",
      "source": [
        "X_test['question2']  = X_test['question2'].values.astype('str')"
      ],
      "metadata": {
        "id": "6Z3ImBsUlas0"
      },
      "execution_count": null,
      "outputs": []
    },
    {
      "cell_type": "code",
      "source": [
        "nlp = spacy.load('en_core_web_sm')\n",
        "\n",
        "vecs1 = []\n",
        "# https://github.com/noamraph/tqdm\n",
        "# tqdm is used to print the progress bar\n",
        "for qu1 in tqdm(list(X_test['question2'])):\n",
        "    doc1 = nlp(qu1) \n",
        "    # 384 is the number of dimensions of vectors \n",
        "    mean_vec1 = np.zeros([len(doc1), 96])\n",
        "    for i,word1 in enumerate(doc1):\n",
        "        # word2vec\n",
        "        vec1 = word1.vector\n",
        "        # fetch df score\n",
        "        try:\n",
        "            idf = word2tfidf[str(word1)]\n",
        "        except:\n",
        "            idf = 0\n",
        "        # compute final vec\n",
        "        mean_vec1[i] += vec1 * idf\n",
        "    mean_vec1 = mean_vec1.mean(axis=0)\n",
        "    vecs1.append(mean_vec1)\n",
        "\n",
        "X_test_glove_q2 = vecs1"
      ],
      "metadata": {
        "colab": {
          "base_uri": "https://localhost:8080/"
        },
        "id": "ePBmlllTiP6A",
        "outputId": "e8743702-2927-4058-ec3a-51bb64d1f58c"
      },
      "execution_count": null,
      "outputs": [
        {
          "output_type": "stream",
          "name": "stderr",
          "text": [
            "100%|██████████| 30000/30000 [04:47<00:00, 104.42it/s]\n"
          ]
        }
      ]
    },
    {
      "cell_type": "code",
      "source": [
        "X_train['q1_glove'] = X_train_glove_q1\n",
        "X_train['q2_glove'] = X_train_glove_q2\n",
        "X_test['q1_glove'] = X_test_glove_q1\n",
        "X_test['q2_glove'] = X_test_glove_q2"
      ],
      "metadata": {
        "id": "QRN2ea8OiP9I"
      },
      "execution_count": null,
      "outputs": []
    },
    {
      "cell_type": "code",
      "source": [
        "train_glove = np.concatenate([np.array(X_train_glove_q1),np.array(X_train_glove_q2)],axis=1)\n",
        "test_glove = np.concatenate([np.array(X_test_glove_q1),np.array(X_test_glove_q2)],axis=1)\n",
        "train_glove.shape"
      ],
      "metadata": {
        "colab": {
          "base_uri": "https://localhost:8080/"
        },
        "id": "Up0GD1jSiQAQ",
        "outputId": "bb1d13fb-5f36-4895-846d-8a88de180241"
      },
      "execution_count": null,
      "outputs": [
        {
          "output_type": "execute_result",
          "data": {
            "text/plain": [
              "(70000, 192)"
            ]
          },
          "metadata": {},
          "execution_count": 131
        }
      ]
    },
    {
      "cell_type": "code",
      "source": [
        "glove_train_df = pd.DataFrame(train_glove,columns=[f'g_{i}' for i in range(train_glove.shape[1])])\n",
        "glove_test_df = pd.DataFrame(test_glove,columns=[f'g_{i}' for i in range(test_glove.shape[1])])\n",
        "glove_train_df.head()"
      ],
      "metadata": {
        "colab": {
          "base_uri": "https://localhost:8080/",
          "height": 300
        },
        "id": "6jE77QwaiQDO",
        "outputId": "77f4ff29-c499-4fca-9097-4aca827597b5"
      },
      "execution_count": null,
      "outputs": [
        {
          "output_type": "execute_result",
          "data": {
            "text/plain": [
              "        g_0       g_1       g_2       g_3        g_4       g_5       g_6  \\\n",
              "0  8.620377 -1.614727 -2.521583 -1.531998   2.092236  0.767564  5.339287   \n",
              "1 -0.976643 -2.725152  2.448420 -6.019244  10.633596 -0.612285  2.808925   \n",
              "2  1.364633 -0.612766 -0.917767  4.277427  10.759067  7.220730  2.623590   \n",
              "3 -5.402827 -1.453848 -3.300925  0.197813   1.619330  6.634061  1.017171   \n",
              "4  6.240948 -0.342004  0.272171  7.702876   3.548724  2.831506  9.050959   \n",
              "\n",
              "        g_7        g_8        g_9  ...     g_182     g_183     g_184  \\\n",
              "0  3.058473  10.082106  11.054510  ... -2.701354  2.716441 -0.510052   \n",
              "1  2.506091   3.439625   2.748850  ...  3.914964  0.328768 -2.454020   \n",
              "2  2.577329  10.591618  13.758568  ... -2.047053 -4.732654 -0.826601   \n",
              "3  3.348628   1.350459   7.710702  ... -0.772201  1.317268 -5.662102   \n",
              "4  0.379950   8.114947   9.188508  ... -2.429725  0.942915 -4.174390   \n",
              "\n",
              "      g_185     g_186     g_187     g_188     g_189     g_190     g_191  \n",
              "0  6.447781 -2.949746 -0.962468  2.531881  6.010862  1.527958  1.486945  \n",
              "1  0.270393 -9.784351 -0.421203  2.982829  3.221098 -0.517070  7.156083  \n",
              "2  6.169578  0.445108 -2.095889  4.520428 -1.048259  0.624426  6.458432  \n",
              "3  1.054329 -6.430517 -1.770199 -3.266285  1.832004  6.204855  4.190380  \n",
              "4  8.085426  0.507519 -9.277117  4.342348  1.404644  5.940545  5.478593  \n",
              "\n",
              "[5 rows x 192 columns]"
            ],
            "text/html": [
              "\n",
              "  <div id=\"df-ab875469-80da-48d1-a81f-70e9586c7a7d\">\n",
              "    <div class=\"colab-df-container\">\n",
              "      <div>\n",
              "<style scoped>\n",
              "    .dataframe tbody tr th:only-of-type {\n",
              "        vertical-align: middle;\n",
              "    }\n",
              "\n",
              "    .dataframe tbody tr th {\n",
              "        vertical-align: top;\n",
              "    }\n",
              "\n",
              "    .dataframe thead th {\n",
              "        text-align: right;\n",
              "    }\n",
              "</style>\n",
              "<table border=\"1\" class=\"dataframe\">\n",
              "  <thead>\n",
              "    <tr style=\"text-align: right;\">\n",
              "      <th></th>\n",
              "      <th>g_0</th>\n",
              "      <th>g_1</th>\n",
              "      <th>g_2</th>\n",
              "      <th>g_3</th>\n",
              "      <th>g_4</th>\n",
              "      <th>g_5</th>\n",
              "      <th>g_6</th>\n",
              "      <th>g_7</th>\n",
              "      <th>g_8</th>\n",
              "      <th>g_9</th>\n",
              "      <th>...</th>\n",
              "      <th>g_182</th>\n",
              "      <th>g_183</th>\n",
              "      <th>g_184</th>\n",
              "      <th>g_185</th>\n",
              "      <th>g_186</th>\n",
              "      <th>g_187</th>\n",
              "      <th>g_188</th>\n",
              "      <th>g_189</th>\n",
              "      <th>g_190</th>\n",
              "      <th>g_191</th>\n",
              "    </tr>\n",
              "  </thead>\n",
              "  <tbody>\n",
              "    <tr>\n",
              "      <th>0</th>\n",
              "      <td>8.620377</td>\n",
              "      <td>-1.614727</td>\n",
              "      <td>-2.521583</td>\n",
              "      <td>-1.531998</td>\n",
              "      <td>2.092236</td>\n",
              "      <td>0.767564</td>\n",
              "      <td>5.339287</td>\n",
              "      <td>3.058473</td>\n",
              "      <td>10.082106</td>\n",
              "      <td>11.054510</td>\n",
              "      <td>...</td>\n",
              "      <td>-2.701354</td>\n",
              "      <td>2.716441</td>\n",
              "      <td>-0.510052</td>\n",
              "      <td>6.447781</td>\n",
              "      <td>-2.949746</td>\n",
              "      <td>-0.962468</td>\n",
              "      <td>2.531881</td>\n",
              "      <td>6.010862</td>\n",
              "      <td>1.527958</td>\n",
              "      <td>1.486945</td>\n",
              "    </tr>\n",
              "    <tr>\n",
              "      <th>1</th>\n",
              "      <td>-0.976643</td>\n",
              "      <td>-2.725152</td>\n",
              "      <td>2.448420</td>\n",
              "      <td>-6.019244</td>\n",
              "      <td>10.633596</td>\n",
              "      <td>-0.612285</td>\n",
              "      <td>2.808925</td>\n",
              "      <td>2.506091</td>\n",
              "      <td>3.439625</td>\n",
              "      <td>2.748850</td>\n",
              "      <td>...</td>\n",
              "      <td>3.914964</td>\n",
              "      <td>0.328768</td>\n",
              "      <td>-2.454020</td>\n",
              "      <td>0.270393</td>\n",
              "      <td>-9.784351</td>\n",
              "      <td>-0.421203</td>\n",
              "      <td>2.982829</td>\n",
              "      <td>3.221098</td>\n",
              "      <td>-0.517070</td>\n",
              "      <td>7.156083</td>\n",
              "    </tr>\n",
              "    <tr>\n",
              "      <th>2</th>\n",
              "      <td>1.364633</td>\n",
              "      <td>-0.612766</td>\n",
              "      <td>-0.917767</td>\n",
              "      <td>4.277427</td>\n",
              "      <td>10.759067</td>\n",
              "      <td>7.220730</td>\n",
              "      <td>2.623590</td>\n",
              "      <td>2.577329</td>\n",
              "      <td>10.591618</td>\n",
              "      <td>13.758568</td>\n",
              "      <td>...</td>\n",
              "      <td>-2.047053</td>\n",
              "      <td>-4.732654</td>\n",
              "      <td>-0.826601</td>\n",
              "      <td>6.169578</td>\n",
              "      <td>0.445108</td>\n",
              "      <td>-2.095889</td>\n",
              "      <td>4.520428</td>\n",
              "      <td>-1.048259</td>\n",
              "      <td>0.624426</td>\n",
              "      <td>6.458432</td>\n",
              "    </tr>\n",
              "    <tr>\n",
              "      <th>3</th>\n",
              "      <td>-5.402827</td>\n",
              "      <td>-1.453848</td>\n",
              "      <td>-3.300925</td>\n",
              "      <td>0.197813</td>\n",
              "      <td>1.619330</td>\n",
              "      <td>6.634061</td>\n",
              "      <td>1.017171</td>\n",
              "      <td>3.348628</td>\n",
              "      <td>1.350459</td>\n",
              "      <td>7.710702</td>\n",
              "      <td>...</td>\n",
              "      <td>-0.772201</td>\n",
              "      <td>1.317268</td>\n",
              "      <td>-5.662102</td>\n",
              "      <td>1.054329</td>\n",
              "      <td>-6.430517</td>\n",
              "      <td>-1.770199</td>\n",
              "      <td>-3.266285</td>\n",
              "      <td>1.832004</td>\n",
              "      <td>6.204855</td>\n",
              "      <td>4.190380</td>\n",
              "    </tr>\n",
              "    <tr>\n",
              "      <th>4</th>\n",
              "      <td>6.240948</td>\n",
              "      <td>-0.342004</td>\n",
              "      <td>0.272171</td>\n",
              "      <td>7.702876</td>\n",
              "      <td>3.548724</td>\n",
              "      <td>2.831506</td>\n",
              "      <td>9.050959</td>\n",
              "      <td>0.379950</td>\n",
              "      <td>8.114947</td>\n",
              "      <td>9.188508</td>\n",
              "      <td>...</td>\n",
              "      <td>-2.429725</td>\n",
              "      <td>0.942915</td>\n",
              "      <td>-4.174390</td>\n",
              "      <td>8.085426</td>\n",
              "      <td>0.507519</td>\n",
              "      <td>-9.277117</td>\n",
              "      <td>4.342348</td>\n",
              "      <td>1.404644</td>\n",
              "      <td>5.940545</td>\n",
              "      <td>5.478593</td>\n",
              "    </tr>\n",
              "  </tbody>\n",
              "</table>\n",
              "<p>5 rows × 192 columns</p>\n",
              "</div>\n",
              "      <button class=\"colab-df-convert\" onclick=\"convertToInteractive('df-ab875469-80da-48d1-a81f-70e9586c7a7d')\"\n",
              "              title=\"Convert this dataframe to an interactive table.\"\n",
              "              style=\"display:none;\">\n",
              "        \n",
              "  <svg xmlns=\"http://www.w3.org/2000/svg\" height=\"24px\"viewBox=\"0 0 24 24\"\n",
              "       width=\"24px\">\n",
              "    <path d=\"M0 0h24v24H0V0z\" fill=\"none\"/>\n",
              "    <path d=\"M18.56 5.44l.94 2.06.94-2.06 2.06-.94-2.06-.94-.94-2.06-.94 2.06-2.06.94zm-11 1L8.5 8.5l.94-2.06 2.06-.94-2.06-.94L8.5 2.5l-.94 2.06-2.06.94zm10 10l.94 2.06.94-2.06 2.06-.94-2.06-.94-.94-2.06-.94 2.06-2.06.94z\"/><path d=\"M17.41 7.96l-1.37-1.37c-.4-.4-.92-.59-1.43-.59-.52 0-1.04.2-1.43.59L10.3 9.45l-7.72 7.72c-.78.78-.78 2.05 0 2.83L4 21.41c.39.39.9.59 1.41.59.51 0 1.02-.2 1.41-.59l7.78-7.78 2.81-2.81c.8-.78.8-2.07 0-2.86zM5.41 20L4 18.59l7.72-7.72 1.47 1.35L5.41 20z\"/>\n",
              "  </svg>\n",
              "      </button>\n",
              "      \n",
              "  <style>\n",
              "    .colab-df-container {\n",
              "      display:flex;\n",
              "      flex-wrap:wrap;\n",
              "      gap: 12px;\n",
              "    }\n",
              "\n",
              "    .colab-df-convert {\n",
              "      background-color: #E8F0FE;\n",
              "      border: none;\n",
              "      border-radius: 50%;\n",
              "      cursor: pointer;\n",
              "      display: none;\n",
              "      fill: #1967D2;\n",
              "      height: 32px;\n",
              "      padding: 0 0 0 0;\n",
              "      width: 32px;\n",
              "    }\n",
              "\n",
              "    .colab-df-convert:hover {\n",
              "      background-color: #E2EBFA;\n",
              "      box-shadow: 0px 1px 2px rgba(60, 64, 67, 0.3), 0px 1px 3px 1px rgba(60, 64, 67, 0.15);\n",
              "      fill: #174EA6;\n",
              "    }\n",
              "\n",
              "    [theme=dark] .colab-df-convert {\n",
              "      background-color: #3B4455;\n",
              "      fill: #D2E3FC;\n",
              "    }\n",
              "\n",
              "    [theme=dark] .colab-df-convert:hover {\n",
              "      background-color: #434B5C;\n",
              "      box-shadow: 0px 1px 3px 1px rgba(0, 0, 0, 0.15);\n",
              "      filter: drop-shadow(0px 1px 2px rgba(0, 0, 0, 0.3));\n",
              "      fill: #FFFFFF;\n",
              "    }\n",
              "  </style>\n",
              "\n",
              "      <script>\n",
              "        const buttonEl =\n",
              "          document.querySelector('#df-ab875469-80da-48d1-a81f-70e9586c7a7d button.colab-df-convert');\n",
              "        buttonEl.style.display =\n",
              "          google.colab.kernel.accessAllowed ? 'block' : 'none';\n",
              "\n",
              "        async function convertToInteractive(key) {\n",
              "          const element = document.querySelector('#df-ab875469-80da-48d1-a81f-70e9586c7a7d');\n",
              "          const dataTable =\n",
              "            await google.colab.kernel.invokeFunction('convertToInteractive',\n",
              "                                                     [key], {});\n",
              "          if (!dataTable) return;\n",
              "\n",
              "          const docLinkHtml = 'Like what you see? Visit the ' +\n",
              "            '<a target=\"_blank\" href=https://colab.research.google.com/notebooks/data_table.ipynb>data table notebook</a>'\n",
              "            + ' to learn more about interactive tables.';\n",
              "          element.innerHTML = '';\n",
              "          dataTable['output_type'] = 'display_data';\n",
              "          await google.colab.output.renderOutput(dataTable, element);\n",
              "          const docLink = document.createElement('div');\n",
              "          docLink.innerHTML = docLinkHtml;\n",
              "          element.appendChild(docLink);\n",
              "        }\n",
              "      </script>\n",
              "    </div>\n",
              "  </div>\n",
              "  "
            ]
          },
          "metadata": {},
          "execution_count": 132
        }
      ]
    },
    {
      "cell_type": "code",
      "source": [
        "X_train = X_train.drop(columns=['question1','question2']).reset_index(drop=True)\n",
        "X_test = X_test.drop(columns=['question1','question2']).reset_index(drop=True)\n",
        "print(X_train.shape)\n",
        "print(X_test.shape)"
      ],
      "metadata": {
        "colab": {
          "base_uri": "https://localhost:8080/"
        },
        "id": "56LZKQNFiXHx",
        "outputId": "c38e4378-1432-40e1-cf5c-f4ea708ac48d"
      },
      "execution_count": null,
      "outputs": [
        {
          "output_type": "stream",
          "name": "stdout",
          "text": [
            "(70000, 28)\n",
            "(30000, 28)\n"
          ]
        }
      ]
    },
    {
      "cell_type": "code",
      "source": [
        "# concatenating\n",
        "X_train_d = pd.concat([X_train,glove_train_df],axis=1)\n",
        "X_test_d = pd.concat([X_test,glove_test_df],axis=1)\n",
        "print(X_train_d.shape)\n",
        "print(X_test_d.shape)"
      ],
      "metadata": {
        "colab": {
          "base_uri": "https://localhost:8080/"
        },
        "id": "Mz8--lRWiXLN",
        "outputId": "d1a5c78e-2c35-4573-ef75-7314ed9243ce"
      },
      "execution_count": null,
      "outputs": [
        {
          "output_type": "stream",
          "name": "stdout",
          "text": [
            "(70000, 220)\n",
            "(30000, 220)\n"
          ]
        }
      ]
    },
    {
      "cell_type": "code",
      "source": [
        "os.chdir('/content/drive/MyDrive/Personal_Project/Fetures_Extraction/TFID_Weighted_W2V')"
      ],
      "metadata": {
        "id": "mHVoiGL9llLa"
      },
      "execution_count": null,
      "outputs": []
    },
    {
      "cell_type": "code",
      "source": [
        "X_train_d.to_csv('_tfidf_w2vtrain_data.csv',index=False)\n",
        "X_test_d.to_csv('tfidf_w2v_test_data.csv',index=False)"
      ],
      "metadata": {
        "id": "WcZNdQ8XiXPa"
      },
      "execution_count": null,
      "outputs": []
    },
    {
      "cell_type": "code",
      "source": [
        "y_train.to_csv('tfidf_w2v_train_y.csv',index=False)\n",
        "y_test.to_csv('tfidf_w2v_testa_y.csv',index=False)"
      ],
      "metadata": {
        "id": "K1AQ2-nxiXTQ"
      },
      "execution_count": null,
      "outputs": []
    }
  ]
}