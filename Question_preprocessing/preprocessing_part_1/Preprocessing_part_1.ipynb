{
  "nbformat": 4,
  "nbformat_minor": 0,
  "metadata": {
    "colab": {
      "name": "Preprocessing_part_1.ipynb",
      "provenance": []
    },
    "kernelspec": {
      "name": "python3",
      "display_name": "Python 3"
    },
    "language_info": {
      "name": "python"
    }
  },
  "cells": [
    {
      "cell_type": "code",
      "source": [
        ""
      ],
      "metadata": {
        "id": "DfalNfEjdjZM"
      },
      "execution_count": null,
      "outputs": []
    },
    {
      "cell_type": "markdown",
      "source": [
        "# **Feature Engineering Part - 1 (Basic)**\n",
        "\n",
        "* **freq_qid1** = Frequency of qid1's #ie, number of times question1 occur\n",
        "* **freq_qid2** = Frequency of qid2's\n",
        "* **q1len** = Length of q1\n",
        "* **q2len** = Length of q2\n",
        "* **q1_n_words** = Number of words in Question 1\n",
        "* **q2_n_words** = Number of words in Question 2\n",
        "* **word_Common** = (Number of common unique words in Question 1 and Question 2)\n",
        "* **word_Total** =(Total num of words in Question 1 + Total num of words in Question 2)\n",
        "* **word_share** = (word_common)/(word_Total)\n",
        "* **freq_q1+freq_q2** = sum total of frequency of qid1 and qid2\n",
        "* **freq_q1-freq_q2** = absolute difference of frequency of qid1 and qid2"
      ],
      "metadata": {
        "id": "65SazQUcKHOV"
      }
    },
    {
      "cell_type": "code",
      "source": [
        "os.chdir('/content/drive/MyDrive/Personal_Project/Feature_Engineering/Basic_Preprocess_File')"
      ],
      "metadata": {
        "id": "XUzinw4AOUdc"
      },
      "execution_count": null,
      "outputs": []
    },
    {
      "cell_type": "code",
      "source": [
        "def common_wrd(row):\n",
        "    x = set(row['question1'].lower().strip().split(\" \")) \n",
        "    y = set(row['question2'].lower().strip().split(\" \"))\n",
        "    return 1.0 * len(x & y)\n",
        "\n",
        "\n",
        "def total(row):\n",
        "    set1 = set(row['question1'].lower().strip().split(\" \"))\n",
        "    set2 = set(row['question2'].lower().strip().split(\" \"))\n",
        "    return 1.0 * (len(set1) + len(set2))\n",
        "\n",
        "def word_share(row):\n",
        "    x = row['word_common']/row['word_total']\n",
        "    return  x\n",
        "\n",
        "############################################\n",
        "train_data['freq_qid1'] = train_data['qid1'].apply(lambda x: cnt[x])\n",
        "train_data['freq_qid2'] = train_data['qid2'].apply(lambda x: cnt[x])    \n",
        "train_data['q1len'] = train_data['question1'].apply(lambda x: len(x))\n",
        "train_data['q2len'] = train_data['question2'].apply(lambda x: len(x))\n",
        "train_data['q1_n_words'] = train_data['question1'].apply(lambda x: len(x.split(\" \")))\n",
        "train_data['q2_n_words'] = train_data['question2'].apply(lambda x: len(x.split(\" \")))\n",
        "train_data['word_common'] = train_data.apply(common_wrd,axis=1)\n",
        "train_data['word_total'] = train_data.apply(total,axis=1)\n",
        "train_data['word_share'] = train_data.apply(word_share,axis=1)\n",
        "train_data['freq_q1+q2'] = train_data['freq_qid1']+train_data['freq_qid2']\n",
        "train_data['freq_q1-q2'] = abs(train_data['freq_qid1']-train_data['freq_qid2'])\n",
        "train_data.to_csv(\"Preprocessing_Part_1.csv\", index=False)"
      ],
      "metadata": {
        "id": "kqDR33cCIy83"
      },
      "execution_count": null,
      "outputs": []
    },
    {
      "cell_type": "code",
      "source": [
        "train_data = pd.read_csv('/content/drive/MyDrive/Personal_Project/Feature_Engineering/Basic_Preprocess_File/Preprocessing_Part_1.csv')\n",
        "train_data.sample(3)"
      ],
      "metadata": {
        "id": "OFTdClDJKGCq",
        "colab": {
          "base_uri": "https://localhost:8080/",
          "height": 468
        },
        "outputId": "626dea7a-052f-4943-c532-083166d8f3a6"
      },
      "execution_count": null,
      "outputs": [
        {
          "output_type": "execute_result",
          "data": {
            "text/plain": [
              "            id    qid1    qid2  \\\n",
              "178218  178219  273778  273779   \n",
              "80871    80871  137411  137412   \n",
              "57449    57449  100952  100953   \n",
              "\n",
              "                                                question1  \\\n",
              "178218  Could I buy the Verizon version of the Google ...   \n",
              "80871                          How I study for upsc exam?   \n",
              "57449   How long did it take for you to get 9,000 foll...   \n",
              "\n",
              "                                                question2  is_duplicate  \\\n",
              "178218  How can a Quora answer be seen if it’s the 100...             0   \n",
              "80871            What books should I study for upsc exam?             0   \n",
              "57449   How long did it take for you to get 1,000 foll...             0   \n",
              "\n",
              "        q1len  q2len  q1_n_words  q2_n_words  freq_qid1  freq_qid2  \\\n",
              "178218    122    101          26          20          1          1   \n",
              "80871      26     40           6           8          1          1   \n",
              "57449      74     74          17          17          3          2   \n",
              "\n",
              "        word_common  word_total  word_share  freq_q1+q2  freq_q1-q2  \n",
              "178218          2.0        37.0    0.054054           2           0  \n",
              "80871           5.0        14.0    0.357143           2           0  \n",
              "57449          13.0        28.0    0.464286           5           1  "
            ],
            "text/html": [
              "\n",
              "  <div id=\"df-f320f33e-a686-473a-b3d8-3f2eacbf7f2b\">\n",
              "    <div class=\"colab-df-container\">\n",
              "      <div>\n",
              "<style scoped>\n",
              "    .dataframe tbody tr th:only-of-type {\n",
              "        vertical-align: middle;\n",
              "    }\n",
              "\n",
              "    .dataframe tbody tr th {\n",
              "        vertical-align: top;\n",
              "    }\n",
              "\n",
              "    .dataframe thead th {\n",
              "        text-align: right;\n",
              "    }\n",
              "</style>\n",
              "<table border=\"1\" class=\"dataframe\">\n",
              "  <thead>\n",
              "    <tr style=\"text-align: right;\">\n",
              "      <th></th>\n",
              "      <th>id</th>\n",
              "      <th>qid1</th>\n",
              "      <th>qid2</th>\n",
              "      <th>question1</th>\n",
              "      <th>question2</th>\n",
              "      <th>is_duplicate</th>\n",
              "      <th>q1len</th>\n",
              "      <th>q2len</th>\n",
              "      <th>q1_n_words</th>\n",
              "      <th>q2_n_words</th>\n",
              "      <th>freq_qid1</th>\n",
              "      <th>freq_qid2</th>\n",
              "      <th>word_common</th>\n",
              "      <th>word_total</th>\n",
              "      <th>word_share</th>\n",
              "      <th>freq_q1+q2</th>\n",
              "      <th>freq_q1-q2</th>\n",
              "    </tr>\n",
              "  </thead>\n",
              "  <tbody>\n",
              "    <tr>\n",
              "      <th>178218</th>\n",
              "      <td>178219</td>\n",
              "      <td>273778</td>\n",
              "      <td>273779</td>\n",
              "      <td>Could I buy the Verizon version of the Google ...</td>\n",
              "      <td>How can a Quora answer be seen if it’s the 100...</td>\n",
              "      <td>0</td>\n",
              "      <td>122</td>\n",
              "      <td>101</td>\n",
              "      <td>26</td>\n",
              "      <td>20</td>\n",
              "      <td>1</td>\n",
              "      <td>1</td>\n",
              "      <td>2.0</td>\n",
              "      <td>37.0</td>\n",
              "      <td>0.054054</td>\n",
              "      <td>2</td>\n",
              "      <td>0</td>\n",
              "    </tr>\n",
              "    <tr>\n",
              "      <th>80871</th>\n",
              "      <td>80871</td>\n",
              "      <td>137411</td>\n",
              "      <td>137412</td>\n",
              "      <td>How I study for upsc exam?</td>\n",
              "      <td>What books should I study for upsc exam?</td>\n",
              "      <td>0</td>\n",
              "      <td>26</td>\n",
              "      <td>40</td>\n",
              "      <td>6</td>\n",
              "      <td>8</td>\n",
              "      <td>1</td>\n",
              "      <td>1</td>\n",
              "      <td>5.0</td>\n",
              "      <td>14.0</td>\n",
              "      <td>0.357143</td>\n",
              "      <td>2</td>\n",
              "      <td>0</td>\n",
              "    </tr>\n",
              "    <tr>\n",
              "      <th>57449</th>\n",
              "      <td>57449</td>\n",
              "      <td>100952</td>\n",
              "      <td>100953</td>\n",
              "      <td>How long did it take for you to get 9,000 foll...</td>\n",
              "      <td>How long did it take for you to get 1,000 foll...</td>\n",
              "      <td>0</td>\n",
              "      <td>74</td>\n",
              "      <td>74</td>\n",
              "      <td>17</td>\n",
              "      <td>17</td>\n",
              "      <td>3</td>\n",
              "      <td>2</td>\n",
              "      <td>13.0</td>\n",
              "      <td>28.0</td>\n",
              "      <td>0.464286</td>\n",
              "      <td>5</td>\n",
              "      <td>1</td>\n",
              "    </tr>\n",
              "  </tbody>\n",
              "</table>\n",
              "</div>\n",
              "      <button class=\"colab-df-convert\" onclick=\"convertToInteractive('df-f320f33e-a686-473a-b3d8-3f2eacbf7f2b')\"\n",
              "              title=\"Convert this dataframe to an interactive table.\"\n",
              "              style=\"display:none;\">\n",
              "        \n",
              "  <svg xmlns=\"http://www.w3.org/2000/svg\" height=\"24px\"viewBox=\"0 0 24 24\"\n",
              "       width=\"24px\">\n",
              "    <path d=\"M0 0h24v24H0V0z\" fill=\"none\"/>\n",
              "    <path d=\"M18.56 5.44l.94 2.06.94-2.06 2.06-.94-2.06-.94-.94-2.06-.94 2.06-2.06.94zm-11 1L8.5 8.5l.94-2.06 2.06-.94-2.06-.94L8.5 2.5l-.94 2.06-2.06.94zm10 10l.94 2.06.94-2.06 2.06-.94-2.06-.94-.94-2.06-.94 2.06-2.06.94z\"/><path d=\"M17.41 7.96l-1.37-1.37c-.4-.4-.92-.59-1.43-.59-.52 0-1.04.2-1.43.59L10.3 9.45l-7.72 7.72c-.78.78-.78 2.05 0 2.83L4 21.41c.39.39.9.59 1.41.59.51 0 1.02-.2 1.41-.59l7.78-7.78 2.81-2.81c.8-.78.8-2.07 0-2.86zM5.41 20L4 18.59l7.72-7.72 1.47 1.35L5.41 20z\"/>\n",
              "  </svg>\n",
              "      </button>\n",
              "      \n",
              "  <style>\n",
              "    .colab-df-container {\n",
              "      display:flex;\n",
              "      flex-wrap:wrap;\n",
              "      gap: 12px;\n",
              "    }\n",
              "\n",
              "    .colab-df-convert {\n",
              "      background-color: #E8F0FE;\n",
              "      border: none;\n",
              "      border-radius: 50%;\n",
              "      cursor: pointer;\n",
              "      display: none;\n",
              "      fill: #1967D2;\n",
              "      height: 32px;\n",
              "      padding: 0 0 0 0;\n",
              "      width: 32px;\n",
              "    }\n",
              "\n",
              "    .colab-df-convert:hover {\n",
              "      background-color: #E2EBFA;\n",
              "      box-shadow: 0px 1px 2px rgba(60, 64, 67, 0.3), 0px 1px 3px 1px rgba(60, 64, 67, 0.15);\n",
              "      fill: #174EA6;\n",
              "    }\n",
              "\n",
              "    [theme=dark] .colab-df-convert {\n",
              "      background-color: #3B4455;\n",
              "      fill: #D2E3FC;\n",
              "    }\n",
              "\n",
              "    [theme=dark] .colab-df-convert:hover {\n",
              "      background-color: #434B5C;\n",
              "      box-shadow: 0px 1px 3px 1px rgba(0, 0, 0, 0.15);\n",
              "      filter: drop-shadow(0px 1px 2px rgba(0, 0, 0, 0.3));\n",
              "      fill: #FFFFFF;\n",
              "    }\n",
              "  </style>\n",
              "\n",
              "      <script>\n",
              "        const buttonEl =\n",
              "          document.querySelector('#df-f320f33e-a686-473a-b3d8-3f2eacbf7f2b button.colab-df-convert');\n",
              "        buttonEl.style.display =\n",
              "          google.colab.kernel.accessAllowed ? 'block' : 'none';\n",
              "\n",
              "        async function convertToInteractive(key) {\n",
              "          const element = document.querySelector('#df-f320f33e-a686-473a-b3d8-3f2eacbf7f2b');\n",
              "          const dataTable =\n",
              "            await google.colab.kernel.invokeFunction('convertToInteractive',\n",
              "                                                     [key], {});\n",
              "          if (!dataTable) return;\n",
              "\n",
              "          const docLinkHtml = 'Like what you see? Visit the ' +\n",
              "            '<a target=\"_blank\" href=https://colab.research.google.com/notebooks/data_table.ipynb>data table notebook</a>'\n",
              "            + ' to learn more about interactive tables.';\n",
              "          element.innerHTML = '';\n",
              "          dataTable['output_type'] = 'display_data';\n",
              "          await google.colab.output.renderOutput(dataTable, element);\n",
              "          const docLink = document.createElement('div');\n",
              "          docLink.innerHTML = docLinkHtml;\n",
              "          element.appendChild(docLink);\n",
              "        }\n",
              "      </script>\n",
              "    </div>\n",
              "  </div>\n",
              "  "
            ]
          },
          "metadata": {},
          "execution_count": 45
        }
      ]
    },
    {
      "cell_type": "code",
      "source": [
        "print (\"Minimum length of the questions in question1 : \" , min(train_data['q1_n_words']))\n",
        "\n",
        "print (\"Minimum length of the questions in question2 : \" , min(train_data['q2_n_words']))\n",
        "\n",
        "print (\"Number of Questions with minimum length [question1] :\", train_data[train_data['q1_n_words']== 1].shape[0])\n",
        "print (\"Number of Questions with minimum length [question2] :\", train_data[train_data['q2_n_words']== 1].shape[0])"
      ],
      "metadata": {
        "id": "qu-7pG4-KGMh",
        "colab": {
          "base_uri": "https://localhost:8080/"
        },
        "outputId": "a6956f65-26d0-4cc0-a054-147f6cd29a8e"
      },
      "execution_count": null,
      "outputs": [
        {
          "output_type": "stream",
          "name": "stdout",
          "text": [
            "Minimum length of the questions in question1 :  1\n",
            "Minimum length of the questions in question2 :  1\n",
            "Number of Questions with minimum length [question1] : 66\n",
            "Number of Questions with minimum length [question2] : 22\n"
          ]
        }
      ]
    },
    {
      "cell_type": "code",
      "source": [
        "train_data[train_data['q1_n_words']== 1].head(3)"
      ],
      "metadata": {
        "id": "eZsN9eEtKGQL",
        "colab": {
          "base_uri": "https://localhost:8080/",
          "height": 381
        },
        "outputId": "395e5d1c-8372-46d1-a6b4-4d80602fc875"
      },
      "execution_count": null,
      "outputs": [
        {
          "output_type": "execute_result",
          "data": {
            "text/plain": [
              "          id   qid1   qid2 question1  \\\n",
              "3306    3306   6553   6554         .   \n",
              "13016  13016  25026  25027         ?   \n",
              "17682  17682  33561  33562   deleted   \n",
              "\n",
              "                                               question2  is_duplicate  q1len  \\\n",
              "3306   Why is Cornell's endowment the lowest in the I...             0      1   \n",
              "13016                 Why should one not work at Google?             0      1   \n",
              "17682  Which website will be suitable for downloading...             0      7   \n",
              "\n",
              "       q2len  q1_n_words  q2_n_words  freq_qid1  freq_qid2  word_common  \\\n",
              "3306      56           1          10          1          1          0.0   \n",
              "13016     34           1           7          2          2          0.0   \n",
              "17682     67           1          10          7          1          0.0   \n",
              "\n",
              "       word_total  word_share  freq_q1+q2  freq_q1-q2  \n",
              "3306         10.0         0.0           2           0  \n",
              "13016         8.0         0.0           4           0  \n",
              "17682        11.0         0.0           8           6  "
            ],
            "text/html": [
              "\n",
              "  <div id=\"df-559fdedd-b2d0-4394-b92f-8b3f8af04403\">\n",
              "    <div class=\"colab-df-container\">\n",
              "      <div>\n",
              "<style scoped>\n",
              "    .dataframe tbody tr th:only-of-type {\n",
              "        vertical-align: middle;\n",
              "    }\n",
              "\n",
              "    .dataframe tbody tr th {\n",
              "        vertical-align: top;\n",
              "    }\n",
              "\n",
              "    .dataframe thead th {\n",
              "        text-align: right;\n",
              "    }\n",
              "</style>\n",
              "<table border=\"1\" class=\"dataframe\">\n",
              "  <thead>\n",
              "    <tr style=\"text-align: right;\">\n",
              "      <th></th>\n",
              "      <th>id</th>\n",
              "      <th>qid1</th>\n",
              "      <th>qid2</th>\n",
              "      <th>question1</th>\n",
              "      <th>question2</th>\n",
              "      <th>is_duplicate</th>\n",
              "      <th>q1len</th>\n",
              "      <th>q2len</th>\n",
              "      <th>q1_n_words</th>\n",
              "      <th>q2_n_words</th>\n",
              "      <th>freq_qid1</th>\n",
              "      <th>freq_qid2</th>\n",
              "      <th>word_common</th>\n",
              "      <th>word_total</th>\n",
              "      <th>word_share</th>\n",
              "      <th>freq_q1+q2</th>\n",
              "      <th>freq_q1-q2</th>\n",
              "    </tr>\n",
              "  </thead>\n",
              "  <tbody>\n",
              "    <tr>\n",
              "      <th>3306</th>\n",
              "      <td>3306</td>\n",
              "      <td>6553</td>\n",
              "      <td>6554</td>\n",
              "      <td>.</td>\n",
              "      <td>Why is Cornell's endowment the lowest in the I...</td>\n",
              "      <td>0</td>\n",
              "      <td>1</td>\n",
              "      <td>56</td>\n",
              "      <td>1</td>\n",
              "      <td>10</td>\n",
              "      <td>1</td>\n",
              "      <td>1</td>\n",
              "      <td>0.0</td>\n",
              "      <td>10.0</td>\n",
              "      <td>0.0</td>\n",
              "      <td>2</td>\n",
              "      <td>0</td>\n",
              "    </tr>\n",
              "    <tr>\n",
              "      <th>13016</th>\n",
              "      <td>13016</td>\n",
              "      <td>25026</td>\n",
              "      <td>25027</td>\n",
              "      <td>?</td>\n",
              "      <td>Why should one not work at Google?</td>\n",
              "      <td>0</td>\n",
              "      <td>1</td>\n",
              "      <td>34</td>\n",
              "      <td>1</td>\n",
              "      <td>7</td>\n",
              "      <td>2</td>\n",
              "      <td>2</td>\n",
              "      <td>0.0</td>\n",
              "      <td>8.0</td>\n",
              "      <td>0.0</td>\n",
              "      <td>4</td>\n",
              "      <td>0</td>\n",
              "    </tr>\n",
              "    <tr>\n",
              "      <th>17682</th>\n",
              "      <td>17682</td>\n",
              "      <td>33561</td>\n",
              "      <td>33562</td>\n",
              "      <td>deleted</td>\n",
              "      <td>Which website will be suitable for downloading...</td>\n",
              "      <td>0</td>\n",
              "      <td>7</td>\n",
              "      <td>67</td>\n",
              "      <td>1</td>\n",
              "      <td>10</td>\n",
              "      <td>7</td>\n",
              "      <td>1</td>\n",
              "      <td>0.0</td>\n",
              "      <td>11.0</td>\n",
              "      <td>0.0</td>\n",
              "      <td>8</td>\n",
              "      <td>6</td>\n",
              "    </tr>\n",
              "  </tbody>\n",
              "</table>\n",
              "</div>\n",
              "      <button class=\"colab-df-convert\" onclick=\"convertToInteractive('df-559fdedd-b2d0-4394-b92f-8b3f8af04403')\"\n",
              "              title=\"Convert this dataframe to an interactive table.\"\n",
              "              style=\"display:none;\">\n",
              "        \n",
              "  <svg xmlns=\"http://www.w3.org/2000/svg\" height=\"24px\"viewBox=\"0 0 24 24\"\n",
              "       width=\"24px\">\n",
              "    <path d=\"M0 0h24v24H0V0z\" fill=\"none\"/>\n",
              "    <path d=\"M18.56 5.44l.94 2.06.94-2.06 2.06-.94-2.06-.94-.94-2.06-.94 2.06-2.06.94zm-11 1L8.5 8.5l.94-2.06 2.06-.94-2.06-.94L8.5 2.5l-.94 2.06-2.06.94zm10 10l.94 2.06.94-2.06 2.06-.94-2.06-.94-.94-2.06-.94 2.06-2.06.94z\"/><path d=\"M17.41 7.96l-1.37-1.37c-.4-.4-.92-.59-1.43-.59-.52 0-1.04.2-1.43.59L10.3 9.45l-7.72 7.72c-.78.78-.78 2.05 0 2.83L4 21.41c.39.39.9.59 1.41.59.51 0 1.02-.2 1.41-.59l7.78-7.78 2.81-2.81c.8-.78.8-2.07 0-2.86zM5.41 20L4 18.59l7.72-7.72 1.47 1.35L5.41 20z\"/>\n",
              "  </svg>\n",
              "      </button>\n",
              "      \n",
              "  <style>\n",
              "    .colab-df-container {\n",
              "      display:flex;\n",
              "      flex-wrap:wrap;\n",
              "      gap: 12px;\n",
              "    }\n",
              "\n",
              "    .colab-df-convert {\n",
              "      background-color: #E8F0FE;\n",
              "      border: none;\n",
              "      border-radius: 50%;\n",
              "      cursor: pointer;\n",
              "      display: none;\n",
              "      fill: #1967D2;\n",
              "      height: 32px;\n",
              "      padding: 0 0 0 0;\n",
              "      width: 32px;\n",
              "    }\n",
              "\n",
              "    .colab-df-convert:hover {\n",
              "      background-color: #E2EBFA;\n",
              "      box-shadow: 0px 1px 2px rgba(60, 64, 67, 0.3), 0px 1px 3px 1px rgba(60, 64, 67, 0.15);\n",
              "      fill: #174EA6;\n",
              "    }\n",
              "\n",
              "    [theme=dark] .colab-df-convert {\n",
              "      background-color: #3B4455;\n",
              "      fill: #D2E3FC;\n",
              "    }\n",
              "\n",
              "    [theme=dark] .colab-df-convert:hover {\n",
              "      background-color: #434B5C;\n",
              "      box-shadow: 0px 1px 3px 1px rgba(0, 0, 0, 0.15);\n",
              "      filter: drop-shadow(0px 1px 2px rgba(0, 0, 0, 0.3));\n",
              "      fill: #FFFFFF;\n",
              "    }\n",
              "  </style>\n",
              "\n",
              "      <script>\n",
              "        const buttonEl =\n",
              "          document.querySelector('#df-559fdedd-b2d0-4394-b92f-8b3f8af04403 button.colab-df-convert');\n",
              "        buttonEl.style.display =\n",
              "          google.colab.kernel.accessAllowed ? 'block' : 'none';\n",
              "\n",
              "        async function convertToInteractive(key) {\n",
              "          const element = document.querySelector('#df-559fdedd-b2d0-4394-b92f-8b3f8af04403');\n",
              "          const dataTable =\n",
              "            await google.colab.kernel.invokeFunction('convertToInteractive',\n",
              "                                                     [key], {});\n",
              "          if (!dataTable) return;\n",
              "\n",
              "          const docLinkHtml = 'Like what you see? Visit the ' +\n",
              "            '<a target=\"_blank\" href=https://colab.research.google.com/notebooks/data_table.ipynb>data table notebook</a>'\n",
              "            + ' to learn more about interactive tables.';\n",
              "          element.innerHTML = '';\n",
              "          dataTable['output_type'] = 'display_data';\n",
              "          await google.colab.output.renderOutput(dataTable, element);\n",
              "          const docLink = document.createElement('div');\n",
              "          docLink.innerHTML = docLinkHtml;\n",
              "          element.appendChild(docLink);\n",
              "        }\n",
              "      </script>\n",
              "    </div>\n",
              "  </div>\n",
              "  "
            ]
          },
          "metadata": {},
          "execution_count": 47
        }
      ]
    },
    {
      "cell_type": "code",
      "source": [
        "plt.figure(figsize=(12,6))\n",
        "#plt.subplot(2,1)\n",
        "#sns.violinplot(x='is_duplicate',y='word_share',train_data=train_data)\n",
        "plt.subplot(1,2,2)\n",
        "sns.distplot(train_data[train_data['is_duplicate'] == 1]['word_share'],color='red',label='similar')\n",
        "sns.distplot(train_data[train_data['is_duplicate'] == 0]['word_share'],color='blue',label='disimilar')\n",
        "plt.legend()\n",
        "plt.show()"
      ],
      "metadata": {
        "id": "ozhp0CE9KGWv",
        "colab": {
          "base_uri": "https://localhost:8080/",
          "height": 478
        },
        "outputId": "98b455d4-355d-4711-960f-56d879635975"
      },
      "execution_count": null,
      "outputs": [
        {
          "output_type": "stream",
          "name": "stderr",
          "text": [
            "/usr/local/lib/python3.7/dist-packages/seaborn/distributions.py:2619: FutureWarning: `distplot` is a deprecated function and will be removed in a future version. Please adapt your code to use either `displot` (a figure-level function with similar flexibility) or `histplot` (an axes-level function for histograms).\n",
            "  warnings.warn(msg, FutureWarning)\n",
            "/usr/local/lib/python3.7/dist-packages/seaborn/distributions.py:2619: FutureWarning: `distplot` is a deprecated function and will be removed in a future version. Please adapt your code to use either `displot` (a figure-level function with similar flexibility) or `histplot` (an axes-level function for histograms).\n",
            "  warnings.warn(msg, FutureWarning)\n"
          ]
        },
        {
          "output_type": "display_data",
          "data": {
            "text/plain": [
              "<Figure size 864x432 with 1 Axes>"
            ],
            "image/png": "[encoded data removed]"
          },
          "metadata": {
            "needs_background": "light"
          }
        }
      ]
    },
    {
      "cell_type": "code",
      "source": [
        "plt.figure(figsize=(12,6))\n",
        "#plt.subplot(1,2,1)\n",
        "#sns.violinplot(x='is_duplicate',y='word_common',train_data=train_data)\n",
        "plt.subplot(1,2,2)\n",
        "sns.distplot(train_data[train_data['is_duplicate'] == 1]['word_common'],color='red',label='similar')\n",
        "sns.distplot(train_data[train_data['is_duplicate'] == 0]['word_common'],color='blue',label='disimilar')\n",
        "plt.legend()\n",
        "plt.show()"
      ],
      "metadata": {
        "id": "G4m2DFBiKGbo",
        "colab": {
          "base_uri": "https://localhost:8080/",
          "height": 478
        },
        "outputId": "ba4dae40-e901-43f8-91c6-00b5d996830c"
      },
      "execution_count": null,
      "outputs": [
        {
          "output_type": "stream",
          "name": "stderr",
          "text": [
            "/usr/local/lib/python3.7/dist-packages/seaborn/distributions.py:2619: FutureWarning: `distplot` is a deprecated function and will be removed in a future version. Please adapt your code to use either `displot` (a figure-level function with similar flexibility) or `histplot` (an axes-level function for histograms).\n",
            "  warnings.warn(msg, FutureWarning)\n",
            "/usr/local/lib/python3.7/dist-packages/seaborn/distributions.py:2619: FutureWarning: `distplot` is a deprecated function and will be removed in a future version. Please adapt your code to use either `displot` (a figure-level function with similar flexibility) or `histplot` (an axes-level function for histograms).\n",
            "  warnings.warn(msg, FutureWarning)\n"
          ]
        },
        {
          "output_type": "display_data",
          "data": {
            "text/plain": [
              "<Figure size 864x432 with 1 Axes>"
            ],
            "image/png": "[encoded data removed]"
          },
          "metadata": {
            "needs_background": "light"
          }
        }
      ]
    },
    {
      "cell_type": "code",
      "source": [
        "# Frequency of Question 1\n",
        "plt.figure(figsize=(15,6))\n",
        "my_count = train_data['freq_qid1'].value_counts()\n",
        "sns.barplot(my_count.index, my_count.values, alpha=0.8)\n",
        "plt.ylabel('Number of times question 1 Occurrenced', fontsize=10)\n",
        "plt.xlabel('Frequency of Question', fontsize=10)\n",
        "plt.show()"
      ],
      "metadata": {
        "colab": {
          "base_uri": "https://localhost:8080/",
          "height": 443
        },
        "id": "exmnsoQKIOYe",
        "outputId": "f948108e-dd7a-4b1f-8bd3-80e142f3f3dc"
      },
      "execution_count": null,
      "outputs": [
        {
          "output_type": "stream",
          "name": "stderr",
          "text": [
            "/usr/local/lib/python3.7/dist-packages/seaborn/_decorators.py:43: FutureWarning: Pass the following variables as keyword args: x, y. From version 0.12, the only valid positional argument will be `data`, and passing other arguments without an explicit keyword will result in an error or misinterpretation.\n",
            "  FutureWarning\n"
          ]
        },
        {
          "output_type": "display_data",
          "data": {
            "text/plain": [
              "<Figure size 1080x432 with 1 Axes>"
            ],
            "image/png": "[encoded data removed]"
          },
          "metadata": {
            "needs_background": "light"
          }
        }
      ]
    },
    {
      "cell_type": "code",
      "source": [
        "# Frequency of Question 2\n",
        "plt.figure(figsize=(15,6))\n",
        "my_count = train_data['freq_qid2'].value_counts()\n",
        "sns.barplot(my_count.index, my_count.values, alpha=0.8)\n",
        "plt.ylabel('Number of times question 2 Occurrenced', fontsize=10)\n",
        "plt.xlabel('Frequency of Question', fontsize=10)\n",
        "plt.show()"
      ],
      "metadata": {
        "colab": {
          "base_uri": "https://localhost:8080/",
          "height": 443
        },
        "id": "UT2br3vWIOa-",
        "outputId": "f7cca4c7-c006-4c4a-d691-e40e523b1432"
      },
      "execution_count": null,
      "outputs": [
        {
          "output_type": "stream",
          "name": "stderr",
          "text": [
            "/usr/local/lib/python3.7/dist-packages/seaborn/_decorators.py:43: FutureWarning: Pass the following variables as keyword args: x, y. From version 0.12, the only valid positional argument will be `data`, and passing other arguments without an explicit keyword will result in an error or misinterpretation.\n",
            "  FutureWarning\n"
          ]
        },
        {
          "output_type": "display_data",
          "data": {
            "text/plain": [
              "<Figure size 1080x432 with 1 Axes>"
            ],
            "image/png": "[encoded data removed]"
          },
          "metadata": {
            "needs_background": "light"
          }
        }
      ]
    }
  ]
}